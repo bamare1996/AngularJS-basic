{
  "nbformat": 4,
  "nbformat_minor": 0,
  "metadata": {
    "colab": {
      "provenance": [],
      "toc_visible": true,
      "include_colab_link": true
    },
    "kernelspec": {
      "name": "python3",
      "display_name": "Python 3"
    },
    "language_info": {
      "name": "python"
    }
  },
  "cells": [
    {
      "cell_type": "markdown",
      "metadata": {
        "id": "view-in-github",
        "colab_type": "text"
      },
      "source": [
        "<a href=\"https://colab.research.google.com/github/bamare1996/AngularJS-basic/blob/master/Final_ML_2023_assignment_3.ipynb\" target=\"_parent\"><img src=\"https://colab.research.google.com/assets/colab-badge.svg\" alt=\"Open In Colab\"/></a>"
      ]
    },
    {
      "cell_type": "markdown",
      "source": [
        "# Assignment 3\n",
        "\n",
        "For submission, please choose \"file\"->\"Download\"->\"Download .py\", rename the file to \"firstname_lastname.py\" and upload it on the iCorsi platform. While we encourage you to discuss the assignments in groups, please write all the code yourself and do not share it with others! We will check for code plagiarism, this will result in zero points for the assignment for all students involved and can have more severe consequences. The deadline is Thursday December 7th, 11:59 pm.\n",
        "\n",
        "For everything to work, all the cells in this notebook have to run in the correct order. When in doubt, just choose \"Runtime\"->\"Run all\" and it will run all cells from the start until an exception is encountered.\n",
        "\n",
        "For comments and questions, contact me: vincent.herrmann@usi.ch"
      ],
      "metadata": {
        "id": "PWP3_AEVeknK"
      }
    },
    {
      "cell_type": "markdown",
      "source": [
        "\n",
        "# Simple Machine Learning Framework\n",
        "(30 points)\n",
        "\n",
        "In this part we are going to implement a very simple machine learning framework. The goal is that at the end of this part, you will have a rough idea what is happening inside a real world ML framework (e.g. PyTorch, TensorFlow, JAX, etc). Using this framework you will be able to easily build and train arbitrary fully connected neural networks. It will have the following building blocks: linear layer, sequential layer, the tanh activation function, and the softmax + cross-entropy loss. The skeleton is given, you will have to fill in the missing parts. Pay attention to the description in the skeleton file: it clarifies the task further, and also gives some useful hints. **You are not allowed to change the signature of the functions (name, the format of the arguments or output)**. They will be auto-checked, so their interface should match.\n",
        "\n",
        "You will test your framework on a synthetic two-class spiral dataset. You will use a simple, 3 layer network with tanh activation function on hidden layers and a softmax output layer. The output sizes are 50, 30, 2, respectively.\n",
        "\n",
        "- (5 points) Implement the ReLU activation function and its derivative in the code skeleton.\n",
        "\n",
        "- (5 points) Implement forward and backward pass for the linear layer.\n",
        "\n",
        "- (10 points) Implement forward and backward pass for the cross-entropy loss.\n",
        "\n",
        "- (10 points) Create the network and implement a single step of training with weight decay.\n",
        "\n",
        "Your task is to fill missing parts of this notebook."
      ],
      "metadata": {
        "id": "Gx2VI17DfiB5"
      }
    },
    {
      "cell_type": "markdown",
      "source": [
        "### Detailed instructions\n",
        "You will have to implement a very primitive machine learning framework. The skeleton is given. You have to fill the\n",
        "blocks starting with `## Implement` and ending with `## End`. The goal is to provide you an insight into how machine learning frameworks work\n",
        "while practicing the most important details from the class.\n",
        "\n",
        "You have to implement the following modules (or call them layers?):\n",
        "- The ReLU activation function\n",
        "- A learnable linear layer\n",
        "- The Softmax+Cross-Entropy loss\n",
        "\n",
        "The linear layer is also called perceptron, fully connected layer, etc. The bias term is not included in the\n",
        "network weight matrix W because of performance reasons (concatenating the 1 to the input is slow). This is the case for the real-world ML frameworks too.\n",
        "\n",
        "All the functions you have to implement has their signature pre-specified, with annotated types. You should _not_ change this, because it will be tested by an automated system which depends on the current interface.\n",
        "\n",
        "The sequential layer is already implemented. It receives a list of layers for the constructor argument, and calls them in order on forward and in reverse order on backward. It is just syntactic sugar that makes the code much nicer. For example, you can\n",
        "create a two-layer neural network with ReLU activation functions with `net = Sequential([Linear(5, 8), ReLU(),\n",
        "Linear(8, 3), ReLU()])` and then run a forward pass using `output = net.forward(your data)`.\n",
        "\n",
        "All the modules have a `forward()` and a `backward()` function. `forward()` receives one argument (except for the loss which takes two) and\n",
        "returns that layer's output. The `backward()` receives the dL/dout (i.e., the gradient of the loss with respect to the output of the last `forward()` call), flowing back on the output of the layer, and should return a `BackwardResult` object with the following fields:\n",
        "- `variable_grads`: a dict of gradients, where the keys are the same as in the keys in the layer's .var. The values are numpy arrays representing the gradient for that variable.\n",
        "- `input_grads`: a numpy array representing the gradient for the input (that was passed to the layer in the forward pass).\n",
        "\n",
        "The `backward()` does not receive the forward pass's input, although it might be needed for the gradient calculation. You should save them in the forward pass for later use in the backward pass. You don't have to worry about most of this, as it is already implemented in the skeleton. There are 2 important takeaways: you have to calculate the gradient of both of your variables and the layer input in the backward pass, and if you need to reuse the input from the forward pass, you need to save it.\n",
        "\n",
        "You will also have to implement the function `train_one_step()`, which does one step of weight update based on the training data and the learning rate. It should run backpropagation, followed by gradient descent. It should also include weight decay, meaning that weights and biases are being punished for being too large. This equivalent to having an additional loss term $L_{wd} = \\beta \\sum_l \\big(|w_l|^2 + |b|^2 \\big)$, where $\\beta$ is the weight decay factor and $l$ is the index of the layer. It is easiest to implement it directly in the `train_one_step()` function. A good value for $\\beta$ is $0.005$.\n",
        "\n",
        "Automatic gradient checking is already implemented. It works by comparing your implementation of the analytic gradient with a numerical approximation. This is done by iterating over all the elements of all variables, nudging them a bit in both directions, and recalculating the network output. Based on that, we can calculate what the gradient should be if we assume that the forward pass is correct. The method is known as numerical differentiation, specifically the symmetric difference quotient. If the gradient checking passes and the error is around 0.008, your implementation of the backward passes is probably correct.\n",
        "\n",
        "Finally, you would have to complete the `create_network()` function, which should return a Sequential neural network of 3 layers: a ReLU input layer with 2 inputs and 50 outputs, a ReLU hidden layer with 30 outputs, and finally an output layer with 2 outputs. Our loss function is the Softmax+Cross-Entropy loss. Usually for two-way classification we don't use softmax, but we will need it for the MNIST part anyway, so we use it here as well.\n",
        "\n",
        "At the end of the training, your loss should be below 0.04. Don't worry if it differs a bit, but a significantly higher value may indicate a problem.\n",
        "\n",
        "There are asserts at many points in the code that will check the shapes of the gradients. Remember: the gradient for a variable must have the same shape as the variable itself. Imagine the variables and the network inputs/outputs as a cable with a given number of wires: no matter in which direction you pass the data, the number of wires is the same.\n",
        "\n",
        "Please do your calculations in a vectorized way. Otherwise, it will be painfully slow. This also means your data has a batch dimension. The input to each module is not a data vector $x$, but a $n \\times d$ matrix, where $n$ is the batch size and $d$ the dimensionality of the data vector. The only places where you might need a for-loop are the `Sequential` layer and the `train_one_step` function.\n",
        "\n",
        "Good luck, I hope you'll enjoy it :)!"
      ],
      "metadata": {
        "id": "3_xdPwI26wj4"
      }
    },
    {
      "cell_type": "code",
      "source": [
        "###############################################################################################################\n",
        "# Nothing to do in this cell.\n",
        "###############################################################################################################\n",
        "\n",
        "\n",
        "import numpy as np\n",
        "from dataclasses import dataclass\n",
        "from typing import Dict, List, Tuple\n",
        "import matplotlib\n",
        "import matplotlib.pyplot as plt\n",
        "from IPython.display import clear_output\n",
        "import os\n",
        "from urllib import request\n",
        "import gzip\n",
        "\n",
        "%matplotlib inline\n",
        "\n",
        "# Interface definitions\n",
        "class Layer:\n",
        "    var: Dict[str, np.ndarray] = {}\n",
        "\n",
        "    @dataclass\n",
        "    class BackwardResult:\n",
        "        variable_grads: Dict[str, np.ndarray]\n",
        "        input_grads: np.ndarray\n",
        "\n",
        "    def forward(self, x: np.ndarray) -> np.ndarray:\n",
        "        raise NotImplementedError()\n",
        "\n",
        "    def backward(self, error: np.ndarray) -> BackwardResult:\n",
        "        raise NotImplementedError()\n",
        "\n",
        "\n",
        "class Loss:\n",
        "    def forward(self, prediction: np.ndarray, target: np.ndarray) -> float:\n",
        "        raise NotImplementedError()\n",
        "\n",
        "    def backward(self) -> np.ndarray:\n",
        "        raise NotImplementedError()"
      ],
      "metadata": {
        "id": "7ONSb1q-Or9W"
      },
      "execution_count": 234,
      "outputs": []
    },
    {
      "cell_type": "markdown",
      "source": [
        "### ReLU Activation Function"
      ],
      "metadata": {
        "id": "IuDxCwC-9pmL"
      }
    },
    {
      "cell_type": "code",
      "source": [
        "class ReLU(Layer):\n",
        "    def forward(self, x: np.ndarray) -> np.ndarray:\n",
        "\n",
        "        ## Implement\n",
        "\n",
        "        result = np.tanh(x)\n",
        "\n",
        "        ## End\n",
        "\n",
        "        self.saved_variables = {\n",
        "            \"result\": result\n",
        "        }\n",
        "        return result\n",
        "\n",
        "    def backward(self, grad_in: np.ndarray) -> Layer.BackwardResult:\n",
        "        relu_x = self.saved_variables[\"result\"]\n",
        "\n",
        "        ## Implement\n",
        "\n",
        "        d_x = (1.0 - (relu_x ** 2)) * grad_in\n",
        "\n",
        "        ## End\n",
        "\n",
        "        assert d_x.shape == relu_x.shape, \"Input: grad shape differs: %s %s\" % (d_x.shape, relu_x.shape)\n",
        "\n",
        "        self.saved_variables = None\n",
        "        return Layer.BackwardResult({}, d_x)"
      ],
      "metadata": {
        "id": "h-VxMSJa957M"
      },
      "execution_count": 235,
      "outputs": []
    },
    {
      "cell_type": "markdown",
      "source": [
        "### Linear Layer"
      ],
      "metadata": {
        "id": "QVP_pHyD98ZQ"
      }
    },
    {
      "cell_type": "code",
      "source": [
        "class Linear(Layer):\n",
        "    def __init__(self, input_size: int, output_size: int):\n",
        "        self.var = {\n",
        "            \"W\": np.random.normal(0, np.sqrt(2 / (input_size + output_size)), (input_size, output_size)),\n",
        "            \"b\": np.zeros((output_size), dtype=np.float32)\n",
        "        }\n",
        "\n",
        "    def forward(self, x: np.ndarray) -> np.ndarray:\n",
        "        W = self.var['W']\n",
        "        b = self.var['b']\n",
        "\n",
        "        ## Implement\n",
        "        ## Save your variables needed in backward pass to self.saved_variables.\n",
        "\n",
        "        y = np.matmul(x, W) + b\n",
        "\n",
        "        ## End\n",
        "\n",
        "        self.saved_variables = {\n",
        "            \"input\": x\n",
        "        }\n",
        "\n",
        "        return y\n",
        "\n",
        "    def backward(self, grad_in: np.ndarray) -> Layer.BackwardResult:\n",
        "        x = self.saved_variables[\"input\"]\n",
        "\n",
        "        ## Implement\n",
        "\n",
        "        dW = np.matmul(np.transpose(x), grad_in)\n",
        "        db = np.sum(grad_in, axis=0, keepdims = True)\n",
        "        db = db.flatten()\n",
        "\n",
        "        d_inputs = np.matmul(grad_in, np.transpose(self.var[\"W\"]))\n",
        "\n",
        "        ## End\n",
        "\n",
        "        assert d_inputs.shape == x.shape, \"Input: grad shape differs: %s %s\" % (d_inputs.shape, x.shape)\n",
        "        assert dW.shape == self.var[\"W\"].shape, \"W: grad shape differs: %s %s\" % (dW.shape, self.var[\"W\"].shape)\n",
        "        assert db.shape == self.var[\"b\"].shape, \"b: grad shape differs: %s %s\" % (db.shape, self.var[\"b\"].shape)\n",
        "\n",
        "        self.saved_variables = None\n",
        "        updates = {\"W\": dW,\n",
        "                   \"b\": db}\n",
        "        return Layer.BackwardResult(updates, d_inputs)"
      ],
      "metadata": {
        "id": "V8-THkHV-A4L"
      },
      "execution_count": 236,
      "outputs": []
    },
    {
      "cell_type": "markdown",
      "source": [
        "### Sequential Layer"
      ],
      "metadata": {
        "id": "rVfmF0qI-ElG"
      }
    },
    {
      "cell_type": "code",
      "source": [
        "###############################################################################################################\n",
        "# Nothing to do in this cell.\n",
        "###############################################################################################################\n",
        "\n",
        "\n",
        "class Sequential(Layer):\n",
        "    class RefDict(dict):\n",
        "        def __setitem__(self, k, v):\n",
        "            assert k in self, \"Trying to set a non-existing variable %s\" % k\n",
        "            ref = super().__getitem__(k)\n",
        "            ref[0][ref[1]] = v\n",
        "\n",
        "        def __getitem__(self, k):\n",
        "            ref = super().__getitem__(k)\n",
        "            return ref[0][ref[1]]\n",
        "\n",
        "        def items(self) -> Tuple[str, np.ndarray]:\n",
        "            for k in self.keys():\n",
        "                yield k, self[k]\n",
        "\n",
        "    def __init__(self, list_of_modules: List[Layer]):\n",
        "        self.modules = list_of_modules\n",
        "\n",
        "        refs = {}\n",
        "        for i, m in enumerate(self.modules):\n",
        "            refs.update({\"mod_%d.%s\" % (i,k): (m.var, k) for k in m.var.keys()})\n",
        "\n",
        "        self.var = self.RefDict(refs)\n",
        "\n",
        "    def forward(self, input: np.ndarray) -> np.ndarray:\n",
        "        x = input\n",
        "        for i, m in enumerate(self.modules):\n",
        "            x = m.forward(x)\n",
        "        return x\n",
        "\n",
        "    def backward(self, grad_in: np.ndarray) -> Layer.BackwardResult:\n",
        "        variable_grads = {}\n",
        "\n",
        "        for module_index in reversed(range(len(self.modules))):\n",
        "            module = self.modules[module_index]\n",
        "\n",
        "            grads = module.backward(grad_in)\n",
        "\n",
        "            grad_in = grads.input_grads\n",
        "            variable_grads.update({\"mod_%d.%s\" % (module_index, k): v for k, v in grads.variable_grads.items()})\n",
        "\n",
        "        return Layer.BackwardResult(variable_grads, grad_in)"
      ],
      "metadata": {
        "id": "1WT0VULy-GkN"
      },
      "execution_count": 237,
      "outputs": []
    },
    {
      "cell_type": "markdown",
      "source": [
        "### Softmax + Cross-Entropy Loss"
      ],
      "metadata": {
        "id": "085VuAbd-KSN"
      }
    },
    {
      "cell_type": "code",
      "source": [
        "class SoftmaxCrossEntropy(Loss):\n",
        "    def forward(self, inputs: np.ndarray, targets: np.ndarray) -> float:\n",
        "        y = inputs\n",
        "        t = targets\n",
        "        n = inputs.shape[0]\n",
        "        num_classes = y.shape[1]\n",
        "\n",
        "        ## Implement\n",
        "        ## Remember that the here targets are not one-hot vectors, but integers specifying the class.\n",
        "        ## The loss function has to return a single scalar, so we have to take the mean over the batch dimension.\n",
        "        ## Don't forget to save your variables needed for backward to self.saved_variables.\n",
        "\n",
        "        one_hot_t = np.eye(np.max(t) + 1)[t]\n",
        "        softmax = np.exp(y)/np.exp(y).sum(axis=1)[:, np.newaxis]\n",
        "\n",
        "        mean_crossentropy = -1/n * (np.sum(np.multiply(one_hot_t, np.log(softmax))))\n",
        "\n",
        "        ## End\n",
        "\n",
        "        self.saved_variables = {\n",
        "            \"S\": softmax,\n",
        "            \"t\": one_hot_t,\n",
        "            \"n\": n\n",
        "        }\n",
        "\n",
        "        return mean_crossentropy\n",
        "\n",
        "    def backward(self) -> np.ndarray:\n",
        "        softmax = self.saved_variables[\"S\"]\n",
        "        one_hot_t = self.saved_variables[\"t\"]\n",
        "        n = self.saved_variables[\"n\"]\n",
        "\n",
        "        ## Implement\n",
        "\n",
        "        d_inputs = (1/n) * (softmax - one_hot_t)\n",
        "\n",
        "        ## End\n",
        "\n",
        "        assert d_inputs.shape == softmax.shape, f\"Error shape doesn't match prediction: {d_inputs.shape} {softmax.shape}\"\n",
        "        self.saved_variables = None\n",
        "        return d_inputs"
      ],
      "metadata": {
        "id": "7E1xdc16-NUU"
      },
      "execution_count": 238,
      "outputs": []
    },
    {
      "cell_type": "markdown",
      "source": [
        "### Train One Step & Create Network Functions"
      ],
      "metadata": {
        "id": "wtiWzHNF-gzH"
      }
    },
    {
      "cell_type": "code",
      "source": [
        "def train_one_step(model: Layer, loss: Loss, learning_rate: float, input: np.ndarray, target: np.ndarray, weight_decay=0.0005) -> float:\n",
        "\n",
        "    ## Implement\n",
        "    ## Calculate the loss value for the given inputs and targets, calculate the\n",
        "    ## gradients via backpropagation, and update all the weights and biases via\n",
        "    ## gradient descent (use a for-loop to go through all the learnable\n",
        "    ## parameters of the model)\n",
        "\n",
        "    loss_value = loss.forward(model.forward(input), target)\n",
        "\n",
        "    variable_gradients = model.backward(loss.backward()).variable_grads\n",
        "\n",
        "    for key, grad in variable_gradients.items():\n",
        "        model.var[key] -= (learning_rate * grad) - (weight_decay * grad)\n",
        "    ## End\n",
        "\n",
        "    return loss_value\n",
        "\n",
        "\n",
        "def create_network() -> Layer:\n",
        "\n",
        "    ## Implement\n",
        "\n",
        "    network = Sequential([Linear(2, 50), ReLU(), Linear(50, 30), ReLU(), Linear(30, 2)])\n",
        "\n",
        "    ## End\n",
        "\n",
        "    return network"
      ],
      "metadata": {
        "id": "3OaFX6dmPVsC"
      },
      "execution_count": 239,
      "outputs": []
    },
    {
      "cell_type": "markdown",
      "source": [
        "### Gradient Checking"
      ],
      "metadata": {
        "id": "PskJzWLq-oGY"
      }
    },
    {
      "cell_type": "code",
      "source": [
        "###############################################################################################################\n",
        "# Nothing to do in this cell.\n",
        "###############################################################################################################\n",
        "\n",
        "def gradient_check():\n",
        "    X, T = twospirals(n_points=10)\n",
        "    NN = create_network()\n",
        "    eps = 0.0001\n",
        "\n",
        "    loss = SoftmaxCrossEntropy()\n",
        "    loss.forward(NN.forward(X), T)\n",
        "    variable_gradients = NN.backward(loss.backward()).variable_grads\n",
        "\n",
        "    all_succeeded = True\n",
        "\n",
        "    # Check all variables. Variables will be flattened (reshape(-1)), in order to be able to generate a single index.\n",
        "    for key, value in NN.var.items():\n",
        "        variable = NN.var[key].reshape(-1)\n",
        "        variable_gradient = variable_gradients[key].reshape(-1)\n",
        "        success = True\n",
        "\n",
        "        if NN.var[key].shape != variable_gradients[key].shape:\n",
        "            print(\"[FAIL]: %s: Shape differs: %s %s\" % (key, NN.var[key].shape, variable_gradients[key].shape))\n",
        "            success = False\n",
        "            break\n",
        "\n",
        "        # Check all elements in the variable\n",
        "        for index in range(variable.shape[0]):\n",
        "            var_backup = variable[index]\n",
        "\n",
        "            analytic_grad = variable_gradient[index]\n",
        "\n",
        "            variable[index] = var_backup + eps\n",
        "            perturbed_loss_plus = loss.forward(NN.forward(X), T)\n",
        "            variable[index] = var_backup - eps\n",
        "            perturbed_loss_minus = loss.forward(NN.forward(X), T)\n",
        "            numeric_grad = (perturbed_loss_plus - perturbed_loss_minus) / (2*eps)\n",
        "\n",
        "            variable[index] = var_backup\n",
        "            if abs(numeric_grad - analytic_grad) > 0.00001:\n",
        "                print(\"[FAIL]: %s: Grad differs: numerical: %f, analytical %f\" % (key, numeric_grad, analytic_grad))\n",
        "                success = False\n",
        "                break\n",
        "\n",
        "        if success:\n",
        "            print(\"[OK]: %s\" % key)\n",
        "\n",
        "        all_succeeded = all_succeeded and success\n",
        "\n",
        "    return all_succeeded"
      ],
      "metadata": {
        "id": "jAuj5ZKV-rej"
      },
      "execution_count": 240,
      "outputs": []
    },
    {
      "cell_type": "markdown",
      "source": [
        "### Train Model"
      ],
      "metadata": {
        "id": "uIizvQ5B-Y8Z"
      }
    },
    {
      "cell_type": "code",
      "source": [
        "###############################################################################################################\n",
        "# Nothing to do in this cell. Run it to train your model.\n",
        "###############################################################################################################\n",
        "\n",
        "np.random.seed(12345)\n",
        "\n",
        "\n",
        "def twospirals(n_points=120, noise=1.4, twist=600):\n",
        "    \"\"\"\n",
        "      Returns a two spirals dataset.\n",
        "    \"\"\"\n",
        "    np.random.seed(0)\n",
        "    n = np.sqrt(np.random.rand(n_points, 1)) * twist * (2 * np.pi) / 360\n",
        "    d1x = -np.cos(n) * n + np.random.rand(n_points, 1) * noise\n",
        "    d1y = np.sin(n) * n + np.random.rand(n_points, 1) * noise\n",
        "    X, T = (np.vstack((np.hstack((d1x, d1y)), np.hstack((-d1x, -d1y)))),\n",
        "            np.hstack((np.zeros(n_points).astype(int), np.ones(n_points).astype(int))))\n",
        "    return X, T\n",
        "\n",
        "\n",
        "def plot_data(X, T):\n",
        "    ax.scatter(X[:, 0], X[:, 1], s=40, c=T, cmap=plt.cm.Spectral)\n",
        "\n",
        "\n",
        "def plot_boundary(model, X, targets, threshold=0.0):\n",
        "    x_min, x_max = X[:, 0].min() - .5, X[:, 0].max() + .5\n",
        "    y_min, y_max = X[:, 1].min() - .5, X[:, 1].max() + .5\n",
        "    xx, yy = np.meshgrid(np.linspace(x_min, x_max, 200), np.linspace(y_min, y_max, 200))\n",
        "    X_grid = np.c_[xx.ravel(), yy.ravel()]\n",
        "    y = model.forward(X_grid)[:, 0]\n",
        "\n",
        "    ax.contourf(xx, yy, y.reshape(*xx.shape) < threshold, alpha=0.5)\n",
        "    plot_data(X, targets)\n",
        "    ax.set_ylim([y_min, y_max])\n",
        "    ax.set_xlim([x_min, x_max])\n",
        "    plt.show()\n",
        "\n",
        "\n",
        "print(\"Checking the network\")\n",
        "if not gradient_check():\n",
        "    raise Exception(\"Failed. Not training, because your gradients are not good.\")\n",
        "print(\"Done. Training...\")\n",
        "\n",
        "X, T = twospirals(n_points=200, noise=1.4, twist=600)\n",
        "NN = create_network()\n",
        "loss = SoftmaxCrossEntropy()\n",
        "\n",
        "learning_rate = 0.02\n",
        "\n",
        "for i in range(20000): #20000\n",
        "    curr_error = train_one_step(NN, loss, learning_rate, X, T, weight_decay=0.0005)\n",
        "    if i % 200 == 0:\n",
        "        clear_output(wait=True)\n",
        "        fig, ax = plt.subplots()\n",
        "\n",
        "        plot_boundary(NN, X, T, 0.5)\n",
        "        print(\"step: \", i, \" cost: \", curr_error)"
      ],
      "metadata": {
        "id": "XWdnpB8DPZvK",
        "outputId": "04aaa6d2-3af3-4420-8516-0689a3abb16b",
        "colab": {
          "base_uri": "https://localhost:8080/",
          "height": 448
        }
      },
      "execution_count": 241,
      "outputs": [
        {
          "output_type": "display_data",
          "data": {
            "text/plain": [
              "<Figure size 640x480 with 1 Axes>"
            ],
            "image/png": "[encoded data removed]"
          },
          "metadata": {}
        },
        {
          "output_type": "stream",
          "name": "stdout",
          "text": [
            "step:  19800  cost:  0.029389032286402664\n"
          ]
        }
      ]
    },
    {
      "cell_type": "markdown",
      "source": [
        "# Handwritten Digit Recognition\n",
        "\n",
        "(20 points)\n",
        "\n",
        "In this part you will use your ML framework to train a network that can classify handwritten digits. The network is a very simple 2 layer network, with layer output sizes of 20 and 10 respectively. Again, the skeleton is given, and you have to fill in the missing parts. After this part, you will have a rough idea how to build a proper training pipeline. Pay attention to the description in the skeleton file: it clarifies the your task further, and also gives some useful hints. Reuse as much as you can from framework.py by importing the corresponding functions and classes (e.g the layers, the `train_one_step()` function, etc).\n",
        "\n",
        "- (3 points) Split the data into a training and a validation set.  \n",
        "- (8 points) Implement one function for testing the network on the validation set and one for testing it on the test set.\n",
        "- (6 points) Implement the main training loop.\n",
        "- (3 points) Implement early stopping.\n",
        "\n",
        "Your task is to fill missing parts of the minst.py file. Run it with Python 3 in order to verify whether your solution is correct. Note: The mnist.py and framework.py must be in the same folder for this to work. You will find lots of hints in the templates. Note: in case you return wrongly shaped vectors, the code might fail outside the part you had to fill, but this does not mean that your part is right and the template is wrong."
      ],
      "metadata": {
        "id": "Y8-wIODv6Uko"
      }
    },
    {
      "cell_type": "markdown",
      "source": [
        "### Detailed Instructions\n",
        "In this assignment, you will learn how to train a model with early stopping with the simple machine learning\n",
        "framework's help from the previous assignment. The intent is to show you how to train a machine learning model.\n",
        "It is very similar to what you would do in a real ML framework.\n",
        "\n",
        "We provide some code to download and load MNIST digits. The MNIST comes with a separate test and training set, but\n",
        "not a validation set. Your task is to split the official \"train\" set to train and validation set and train the\n",
        "network with early stopping.\n",
        "\n",
        "Some notes:\n",
        " * an EPOCH is a pass through the whole training set once.\n",
        " * validation accuracy is the percentage of correctly classified digits on the validation set.\n",
        " * early stopping is when you avoid overfitting the model by measuring validation accuracy every N steps (e.g.,\n",
        "   every epoch) and stopping your training when your model begins to worsen on the validation set. You can do that by\n",
        "   keeping track of the best validation accuracy so far and its epoch, and stopping if the validation\n",
        "   accuracy has not improved in the last M steps (e.g., last 10 epochs).\n",
        "   (A better way to do this is to keep the weights of the best performing model, but that is harder since you need a\n",
        "   way to save and reload weights of the model. We keep it simple instead and use the last, slightly worse model).\n",
        " * test accuracy is the percentage of correctly classified digits on the test set.\n",
        " * watch out: if you load batch_size of data by NumPy slicing, it is not guaranteed that you will actually get\n",
        "   batch_size of them: if your array length is not divisable by batch_size, you will get the remainder as the last\n",
        "   batch. Take that in account when calculating the percentages: use shape[0] to determine the real number of\n",
        "   elements in the current batch of data.\n",
        " * verify() should be used both in the validate() and test() functions for error measurement\n",
        "   without code duplication (just the input data should be different).\n",
        " * this is a 10-way classification task, so your network will have 10 outputs, one for each digit. It\n",
        "   can be trained by Softmax nonlinearity followed by a Cross-Entropy loss function. So for every image, you get 10\n",
        "   outputs. To figure out which one is the correct class, you should find which is the most active.\n",
        " * MNIST comes with black-and-white binary images, with a background of 0 and foreground of 255. Each image is 28x28\n",
        "   matrix. To feed that to the model, we flatten it to a 784 (28*28) length vector and normalize it by 255, so the\n",
        "   backround becomes 0 and the foreground 1.0. Labels are integers between 0-9. You don't have to worry about this;\n",
        "   it's already done for you. The networks usually like to receive an input in range -1 .. 1 or generally the mean\n",
        "   near 0, and the standard deviation near 1 (as the majority of MNIST pixels is black, normalizing it to 0..1 range\n",
        "   is good enough).\n",
        "\n",
        "Your final test accuracy should be close to 96%.\n",
        "\n",
        "Good luck!"
      ],
      "metadata": {
        "id": "XRMAcOGo2VnG"
      }
    },
    {
      "cell_type": "code",
      "source": [
        "#######################################################################################################################\n",
        "# Nothing to do in this cell.\n",
        "#######################################################################################################################\n",
        "\n",
        "class MNIST:\n",
        "    FILES = [\n",
        "        \"train-images-idx3-ubyte.gz\", \"train-labels-idx1-ubyte.gz\",\n",
        "        \"t10k-images-idx3-ubyte.gz\", \"t10k-labels-idx1-ubyte.gz\"\n",
        "    ]\n",
        "\n",
        "    URL = \"http://yann.lecun.com/exdb/mnist/\"\n",
        "\n",
        "    @staticmethod\n",
        "    def gzload(file, offset):\n",
        "        with gzip.open(file, 'rb') as f:\n",
        "            return np.frombuffer(f.read(), np.uint8, offset=offset)\n",
        "\n",
        "    def __init__(self, set, cache=\"./cache\"):\n",
        "        os.makedirs(cache, exist_ok=True)\n",
        "\n",
        "        for name in self.FILES:\n",
        "            path = os.path.join(cache, name)\n",
        "            if not os.path.isfile(path):\n",
        "                print(\"Downloading \" + name)\n",
        "                request.urlretrieve(self.URL + name, path)\n",
        "\n",
        "        if set==\"test\":\n",
        "            f_offset = 2\n",
        "        elif set==\"train\":\n",
        "            f_offset = 0\n",
        "        else:\n",
        "            assert False, \"Invalid set: \"+set\n",
        "\n",
        "        self.images = self.gzload(os.path.join(cache, self.FILES[f_offset]), 16).reshape(-1,28*28).astype(float)/255.0\n",
        "        self.labels = self.gzload(os.path.join(cache, self.FILES[f_offset+1]), 8)\n",
        "\n",
        "    def __len__(self) -> int:\n",
        "        return self.images.shape[0]\n",
        "\n",
        "\n",
        "train_validation_set = MNIST(\"train\")\n",
        "test_set = MNIST(\"test\")\n",
        "\n",
        "n_train = int(0.7 * len(train_validation_set))\n",
        "print(\"MNIST:\")\n",
        "print(\"   Train set size:\", n_train)\n",
        "print(\"   Validation set size:\", len(train_validation_set) - n_train)\n",
        "print(\"   Test set size\", len(test_set))\n",
        "\n",
        "np.random.seed(1234)\n",
        "batch_size = 64\n",
        "\n",
        "loss = SoftmaxCrossEntropy()\n",
        "learning_rate = 0.1\n",
        "\n",
        "model = Sequential([\n",
        "    Linear(28*28, 20),\n",
        "    ReLU(),\n",
        "    Linear(20, 10),\n",
        "])"
      ],
      "metadata": {
        "id": "wYXDxG5R2g3I",
        "colab": {
          "base_uri": "https://localhost:8080/"
        },
        "outputId": "f00f6f38-434c-440c-b02b-8a9de352d6f5"
      },
      "execution_count": 242,
      "outputs": [
        {
          "output_type": "stream",
          "name": "stdout",
          "text": [
            "MNIST:\n",
            "   Train set size: 42000\n",
            "   Validation set size: 18000\n",
            "   Test set size 10000\n"
          ]
        }
      ]
    },
    {
      "cell_type": "markdown",
      "source": [
        "### Train-Validation Split"
      ],
      "metadata": {
        "id": "MtcBuGog_TM5"
      }
    },
    {
      "cell_type": "code",
      "source": [
        "indices = np.random.permutation(len(train_validation_set))\n",
        "\n",
        "## Implement\n",
        "## Hint: you should split indices to 2 parts: a training and a validation one. Later when loading a batch of data,\n",
        "## just iterate over those indices by loading \"batch_size\" of them at once, and load data from the dataset by\n",
        "## train_validation_set.images[your_indices[i: i+batch_size]] and\n",
        "## train_validation_set.labels[your_indices[i: i+batch_size]]\n",
        "\n",
        "train_indices = indices[:n_train]\n",
        "validation_indices = indices[n_train:]\n",
        "\n",
        "## End"
      ],
      "metadata": {
        "id": "Vcr1DDu73tmy"
      },
      "execution_count": 243,
      "outputs": []
    },
    {
      "cell_type": "markdown",
      "source": [
        "### Verify, Test and Validate Functions"
      ],
      "metadata": {
        "id": "1D5Izz4UBhTp"
      }
    },
    {
      "cell_type": "code",
      "source": [
        "def verify(images: np.ndarray, targets: np.ndarray) -> Tuple[int, int]:\n",
        "    ## Implement\n",
        "    output = model.forward(images)\n",
        "\n",
        "    num_ok = np.sum((np.argmax(output, axis=1) == targets))\n",
        "    total_num = targets.shape[0]\n",
        "\n",
        "    ## End\n",
        "    return num_ok, total_num\n",
        "\n",
        "\n",
        "def test() -> float:\n",
        "    accumulated_ok = 0.0\n",
        "    count = 0\n",
        "\n",
        "    for i in range(0, len(test_set), batch_size):\n",
        "        images = test_set.images[i:i + batch_size]\n",
        "        labels = test_set.labels[i:i + batch_size]\n",
        "\n",
        "        ## Implement. Use the verify() function to verify your data.\n",
        "        num_ok, total_num = verify(images, labels)\n",
        "        accumulated_ok += num_ok\n",
        "        count += total_num\n",
        "\n",
        "        ## End\n",
        "\n",
        "    return accumulated_ok / count * 100.0\n",
        "\n",
        "\n",
        "def validate() -> float:\n",
        "    accumulated_ok = 0.0\n",
        "    count = 0\n",
        "\n",
        "    ## Implement. Use the verify() function to verify your data.\n",
        "    for i in range(0, len(train_validation_set)-n_train, batch_size):\n",
        "        input = train_validation_set.images[validation_indices[i:i + batch_size]]\n",
        "        target = train_validation_set.labels[validation_indices[i:i + batch_size]]\n",
        "        num_ok, total_num = verify(input, target)\n",
        "        accumulated_ok += num_ok\n",
        "        count += total_num\n",
        "\n",
        "    ## End\n",
        "\n",
        "    return accumulated_ok/count * 100.0"
      ],
      "metadata": {
        "id": "UAA6DEzz6Rnq"
      },
      "execution_count": 244,
      "outputs": []
    },
    {
      "cell_type": "markdown",
      "source": [
        "### Train Loop with Early Stopping"
      ],
      "metadata": {
        "id": "CFtbUNCaBobU"
      }
    },
    {
      "cell_type": "code",
      "source": [
        "## You should update these: best_validation_accuracy is the best validation set accuracy so far, best_epoch is the\n",
        "## epoch of this best validation accuracy (the later can be initialized by anything, as the accuracy will be for sure\n",
        "## better than 0, so it will be updated for sure).\n",
        "best_validation_accuracy = 0\n",
        "best_epoch = -1\n",
        "\n",
        "for epoch in range(200):\n",
        "    ## Implement\n",
        "    ## Use a for-loop to go through all the mini-batches (with the given batch\n",
        "    ## size) in the training set, then compute the validation accuracy using\n",
        "    ## validate()\n",
        "    for i in range(0, n_train, batch_size):\n",
        "        current_loss_value = train_one_step(\n",
        "          model, loss, learning_rate,\n",
        "          train_validation_set.images[train_indices[i:i + batch_size]],\n",
        "          train_validation_set.labels[train_indices[i:i + batch_size]],\n",
        "          weight_decay=0.0005\n",
        "          )\n",
        "\n",
        "    validation_accuracy = validate()\n",
        "\n",
        "    ## End\n",
        "\n",
        "    print(\"Epoch %d: loss: %f, validation accuracy: %.2f%%\" % (epoch, current_loss_value, validation_accuracy))\n",
        "\n",
        "    ## Implement\n",
        "    ## Hint: you should check if current accuracy is better that the best so far. If it is not, check before how many\n",
        "    ## iterations ago the best one came, and terminate if it is more than 10. Also update the best_* variables\n",
        "    ## if needed.\n",
        "    if (validation_accuracy <= best_validation_accuracy) :\n",
        "      if (epoch - best_epoch > 10):\n",
        "        print(\"Early stopping epoch: %d, validation accuracy: %.2f%%\" %(best_epoch, best_validation_accuracy))\n",
        "        break\n",
        "    else:\n",
        "        best_epoch = epoch\n",
        "        best_validation_accuracy = validation_accuracy\n",
        "\n",
        "    # End\n",
        "\n",
        "print(\"Test set performance: %.2f%%\" % test())"
      ],
      "metadata": {
        "id": "mUTnGmWS3GRt",
        "colab": {
          "base_uri": "https://localhost:8080/"
        },
        "outputId": "f6d27830-a0ba-4dac-e384-1ab08214da38"
      },
      "execution_count": 245,
      "outputs": [
        {
          "output_type": "stream",
          "name": "stdout",
          "text": [
            "Epoch 0: loss: 0.223480, validation accuracy: 91.13%\n",
            "Epoch 1: loss: 0.109080, validation accuracy: 92.50%\n",
            "Epoch 2: loss: 0.070629, validation accuracy: 93.06%\n",
            "Epoch 3: loss: 0.056271, validation accuracy: 93.38%\n",
            "Epoch 4: loss: 0.047971, validation accuracy: 93.63%\n",
            "Epoch 5: loss: 0.041669, validation accuracy: 93.90%\n",
            "Epoch 6: loss: 0.036259, validation accuracy: 94.09%\n",
            "Epoch 7: loss: 0.031362, validation accuracy: 94.19%\n",
            "Epoch 8: loss: 0.027285, validation accuracy: 94.36%\n",
            "Epoch 9: loss: 0.024359, validation accuracy: 94.38%\n",
            "Epoch 10: loss: 0.022281, validation accuracy: 94.43%\n",
            "Epoch 11: loss: 0.020684, validation accuracy: 94.49%\n",
            "Epoch 12: loss: 0.019375, validation accuracy: 94.57%\n",
            "Epoch 13: loss: 0.018265, validation accuracy: 94.66%\n",
            "Epoch 14: loss: 0.017318, validation accuracy: 94.69%\n",
            "Epoch 15: loss: 0.016524, validation accuracy: 94.71%\n",
            "Epoch 16: loss: 0.015873, validation accuracy: 94.75%\n",
            "Epoch 17: loss: 0.015351, validation accuracy: 94.76%\n",
            "Epoch 18: loss: 0.014940, validation accuracy: 94.75%\n",
            "Epoch 19: loss: 0.014618, validation accuracy: 94.80%\n",
            "Epoch 20: loss: 0.014363, validation accuracy: 94.81%\n",
            "Epoch 21: loss: 0.014156, validation accuracy: 94.79%\n",
            "Epoch 22: loss: 0.013975, validation accuracy: 94.80%\n",
            "Epoch 23: loss: 0.013805, validation accuracy: 94.80%\n",
            "Epoch 24: loss: 0.013629, validation accuracy: 94.84%\n",
            "Epoch 25: loss: 0.013439, validation accuracy: 94.88%\n",
            "Epoch 26: loss: 0.013226, validation accuracy: 94.90%\n",
            "Epoch 27: loss: 0.012989, validation accuracy: 94.93%\n",
            "Epoch 28: loss: 0.012730, validation accuracy: 94.92%\n",
            "Epoch 29: loss: 0.012451, validation accuracy: 94.94%\n",
            "Epoch 30: loss: 0.012160, validation accuracy: 94.92%\n",
            "Epoch 31: loss: 0.011862, validation accuracy: 94.89%\n",
            "Epoch 32: loss: 0.011566, validation accuracy: 94.92%\n",
            "Epoch 33: loss: 0.011274, validation accuracy: 94.94%\n",
            "Epoch 34: loss: 0.010992, validation accuracy: 94.94%\n",
            "Epoch 35: loss: 0.010723, validation accuracy: 94.94%\n",
            "Epoch 36: loss: 0.010469, validation accuracy: 94.93%\n",
            "Epoch 37: loss: 0.010229, validation accuracy: 94.91%\n",
            "Epoch 38: loss: 0.010006, validation accuracy: 94.92%\n",
            "Epoch 39: loss: 0.009797, validation accuracy: 94.93%\n",
            "Epoch 40: loss: 0.009601, validation accuracy: 94.91%\n",
            "Early stopping epoch: 29, validation accuracy: 94.94%\n",
            "Test set performance: 95.20%\n"
          ]
        }
      ]
    }
  ]
}